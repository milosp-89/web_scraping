{
 "cells": [
  {
   "cell_type": "code",
   "execution_count": 1,
   "id": "d39efa35",
   "metadata": {},
   "outputs": [],
   "source": [
    "#### TE scraper\n",
    "#### Credit rating"
   ]
  },
  {
   "cell_type": "code",
   "execution_count": 2,
   "id": "5ea3b432",
   "metadata": {},
   "outputs": [],
   "source": [
    "# modules - libraries:\n",
    "import requests as r, pandas as pd\n",
    "from fake_useragent import UserAgent\n",
    "from bs4 import BeautifulSoup"
   ]
  },
  {
   "cell_type": "code",
   "execution_count": 3,
   "id": "0a9976da",
   "metadata": {},
   "outputs": [],
   "source": [
    "def get_html(url, parser):\n",
    "    \n",
    "    ua = UserAgent()\n",
    "    HEADERS = {'User-Agent' : str(ua.chrome)}\n",
    "    \n",
    "    page = r.get(url, \n",
    "                 headers = HEADERS)\n",
    "    soup = BeautifulSoup(page.content, \n",
    "                         f\"{parser}\")    \n",
    "    table = soup.find('table', \n",
    "                      {'class' : 'table table-hover'})\n",
    "                         \n",
    "    return(table)"
   ]
  },
  {
   "cell_type": "code",
   "execution_count": 4,
   "id": "99bc1a73",
   "metadata": {},
   "outputs": [],
   "source": [
    "def df():\n",
    "    \n",
    "    table = get_html(\"https://tradingeconomics.com/country-list/rating\", \n",
    "                     \"html.parser\")\n",
    "    column_headers = [c.text.strip() for c in table.find_all(\"th\")]\n",
    "    column_headers[0] = \"Country\"\n",
    "    cr = pd.DataFrame(columns = column_headers)\n",
    "    \n",
    "    for x in table.find_all(\"tr\")[1:]:\n",
    "        rd = x.find_all(\"td\")\n",
    "        r = [y.text.strip() for y in rd]\n",
    "        l = len(cr)\n",
    "        cr.loc[l] = r\n",
    "    return([column_headers, cr])"
   ]
  },
  {
   "cell_type": "code",
   "execution_count": 5,
   "id": "b8eacba6",
   "metadata": {},
   "outputs": [],
   "source": [
    "def final_df():\n",
    "    \n",
    "    column_headers = (df()[0])\n",
    "    cr = (df()[1])\n",
    "    to_drop = column_headers[1:5]\n",
    "    cr.drop(columns = to_drop, inplace = True)\n",
    "    cr[\"TE\"] = (cr[\"TE\"].replace(\"\",\n",
    "                             0,\n",
    "                             regex = True))\n",
    "    cr[\"TE\"] = cr[\"TE\"].astype(dtype = int)\n",
    "    cr[\"TE\"] = (cr[\"TE\"].replace(0,\n",
    "                                 \"\",\n",
    "                                 regex = True))\n",
    "    cr.sort_values(by = \"Country\",\n",
    "                   ascending = True,\n",
    "                   ignore_index = True,\n",
    "                   inplace = True)\n",
    "    \n",
    "    return(cr)"
   ]
  },
  {
   "cell_type": "code",
   "execution_count": 6,
   "id": "e8ef6cd9",
   "metadata": {},
   "outputs": [],
   "source": [
    "def save_excel(eng):\n",
    "    \n",
    "    column_headers = (df()[0])\n",
    "    cr = final_df()\n",
    "    try:\n",
    "        writer = pd.ExcelWriter(\"path\\\\credit_rating.xlsx\",\n",
    "                                engine = eng)\n",
    "        cr.to_excel(writer,\n",
    "                    index = False,\n",
    "                    sheet_name = 'main')\n",
    "        workbook = writer.book\n",
    "        worksheet = writer.sheets['main']\n",
    "        fr = workbook.add_format({'align' : 'center'})\n",
    "        worksheet.set_column('A:B',\n",
    "                             None,\n",
    "                             fr)\n",
    "        longest = max(column_headers, key = len)\n",
    "        res = len(longest)\n",
    "        final_width = res + 20\n",
    "        worksheet.set_column('A:A',\n",
    "                             final_width)\n",
    "\n",
    "        writer.save()\n",
    "        print(\"Dataframe saved!\")\n",
    "\n",
    "    except:\n",
    "\n",
    "        print(\"Error, dataframe not saved, please check again!\")\n",
    "        \n",
    "save_excel(\"xlsxwriter\")"
   ]
  }
 ],
 "metadata": {
  "kernelspec": {
   "display_name": "Python 3 (ipykernel)",
   "language": "python",
   "name": "python3"
  },
  "language_info": {
   "codemirror_mode": {
    "name": "ipython",
    "version": 3
   },
   "file_extension": ".py",
   "mimetype": "text/x-python",
   "name": "python",
   "nbconvert_exporter": "python",
   "pygments_lexer": "ipython3",
   "version": "3.8.8"
  }
 },
 "nbformat": 4,
 "nbformat_minor": 5
}
